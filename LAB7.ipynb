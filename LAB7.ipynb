{
 "cells": [
  {
   "cell_type": "markdown",
   "metadata": {
    "pycharm": {
     "name": "#%% md\n"
    }
   },
   "source": [
    "Imports"
   ]
  },
  {
   "cell_type": "code",
   "execution_count": 1,
   "metadata": {
    "pycharm": {
     "is_executing": false,
     "name": "#%%\n"
    }
   },
   "outputs": [],
   "source": [
    "import numpy as np\n",
    "from Reader import Reader as rd\n",
    "import Camera\n",
    "import SingleImage\n",
    "from ImagePair import ImagePair\n",
    "import pandas as pd\n",
    "import matplotlib.pyplot as plt\n",
    "import copy"
   ]
  },
  {
   "cell_type": "markdown",
   "metadata": {
    "collapsed": true,
    "pycharm": {
     "name": "#%% md\n"
    }
   },
   "source": [
    "Setting Parameters"
   ]
  },
  {
   "cell_type": "code",
   "execution_count": 2,
   "metadata": {
    "pycharm": {
     "is_executing": false,
     "name": "#%%\n"
    }
   },
   "outputs": [],
   "source": [
    "y_size = 3648 # size of y axis of a picture\n",
    "pix_s = 2.4e-3  #single pixel size (micron should be e-6)\n",
    "focal = 4239.655*pix_s\n",
    "ppoint = np.array([2746.295,1837.450])*pix_s\n",
    "radial_d = np.array([0.0473,-0.414,])*pix_s\n",
    "dece_d = np.array([-0.0014,-0.0028,0])*pix_s"
   ]
  },
  {
   "cell_type": "markdown",
   "metadata": {},
   "source": [
    "Reading and Creating list of Homological points"
   ]
  },
  {
   "cell_type": "code",
   "execution_count": 3,
   "metadata": {
    "pycharm": {
     "is_executing": false,
     "name": "#%%\n"
    }
   },
   "outputs": [],
   "source": [
    "list_of_raw_points = []\n",
    "list_of_raw_points.append(rd.ReadSampleFile(r'colorbase/IMG_1793.json'))\n",
    "list_of_raw_points.append(rd.ReadSampleFile(r'colorbase/IMG_1794.json'))\n",
    "list_of_raw_points.append(rd.ReadSampleFile(r'colorbase/IMG_1795.json'))"
   ]
  },
  {
   "cell_type": "markdown",
   "metadata": {},
   "source": [
    "Fixing camera axis "
   ]
  },
  {
   "cell_type": "code",
   "execution_count": 4,
   "metadata": {
    "pycharm": {
     "is_executing": false,
     "name": "#%%\n"
    }
   },
   "outputs": [],
   "source": [
    "list_of_y_fixed_points = copy.deepcopy(list_of_raw_points)\n",
    "for m in range(len(list_of_raw_points)):\n",
    "    for row in range(len(list_of_raw_points[m]-1)):\n",
    "        list_of_y_fixed_points[m][row,1] = y_size -  list_of_raw_points[m][row,1]"
   ]
  },
  {
   "cell_type": "markdown",
   "metadata": {
    "pycharm": {
     "name": "#%% md\n"
    }
   },
   "source": [
    "Fixing camera center"
   ]
  },
  {
   "cell_type": "code",
   "execution_count": 5,
   "metadata": {
    "pycharm": {
     "is_executing": false,
     "name": "#%%\n"
    }
   },
   "outputs": [],
   "source": [
    "list_of_y_center_fixed_points = copy.deepcopy(list_of_y_fixed_points)\n",
    "for m in range(len(list_of_y_fixed_points)):\n",
    "    for row in range(len(list_of_y_fixed_points[m]-1)):\n",
    "        list_of_y_center_fixed_points[m][row,:] =\\\n",
    "        list_of_y_fixed_points[m][row,:] - ppoint/pix_s"
   ]
  },
  {
   "cell_type": "markdown",
   "metadata": {},
   "source": [
    "Multiply by pixel size"
   ]
  },
  {
   "cell_type": "code",
   "execution_count": 6,
   "metadata": {
    "pycharm": {
     "is_executing": false,
     "name": "#%%\n"
    }
   },
   "outputs": [],
   "source": [
    "list_of_y_center_fixed_mm_points = copy.deepcopy(list_of_y_center_fixed_points)\n",
    "for m in range(len(list_of_y_center_fixed_points)):\n",
    "    for row in range(len(list_of_y_center_fixed_points[m]-1)):\n",
    "        list_of_y_center_fixed_mm_points[m][row,:] =\\\n",
    "        list_of_y_center_fixed_points[m][row,:]*pix_s"
   ]
  },
  {
   "cell_type": "markdown",
   "metadata": {
    "pycharm": {
     "name": "#%% md\n"
    }
   },
   "source": [
    "Creating pairs of point sets"
   ]
  },
  {
   "cell_type": "code",
   "execution_count": 7,
   "metadata": {
    "pycharm": {
     "is_executing": false,
     "name": "#%%\n"
    }
   },
   "outputs": [],
   "source": [
    "pointset12 = [list_of_raw_points[0],list_of_raw_points[1]]\n",
    "pointset23 = [list_of_raw_points[1],list_of_raw_points[2]]"
   ]
  },
  {
   "cell_type": "markdown",
   "metadata": {},
   "source": [
    "Creating camera objects, we entering raw points of color surface as fudicals"
   ]
  },
  {
   "cell_type": "code",
   "execution_count": 8,
   "metadata": {
    "pycharm": {
     "is_executing": false,
     "name": "#%%\n"
    }
   },
   "outputs": [],
   "source": [
    "camera1 = Camera.Camera(focal,ppoint,radial_d,dece_d,list_of_y_center_fixed_mm_points[0])\n",
    "camera2 = Camera.Camera(focal,ppoint,radial_d,dece_d,list_of_y_center_fixed_mm_points[1])\n",
    "camera3 = Camera.Camera(focal,ppoint,radial_d,dece_d,list_of_y_center_fixed_mm_points[2])"
   ]
  },
  {
   "cell_type": "markdown",
   "metadata": {
    "pycharm": {
     "name": "#%% md\n"
    }
   },
   "source": [
    "Creating Image Objects"
   ]
  },
  {
   "cell_type": "code",
   "execution_count": 9,
   "metadata": {
    "pycharm": {
     "is_executing": false,
     "name": "#%%\n"
    }
   },
   "outputs": [],
   "source": [
    "img1 = SingleImage.SingleImage(camera1)\n",
    "img2 = SingleImage.SingleImage(camera2)\n",
    "img3 = SingleImage.SingleImage(camera3)"
   ]
  },
  {
   "cell_type": "markdown",
   "metadata": {
    "pycharm": {
     "name": "#%% md\n"
    }
   },
   "source": [
    "Calculating inner orientation"
   ]
  },
  {
   "cell_type": "code",
   "execution_count": 10,
   "metadata": {
    "pycharm": {
     "is_executing": false,
     "name": "#%%\n"
    }
   },
   "outputs": [],
   "source": [
    "inner_orient_img1 = img1.ComputeInnerOrientation(list_of_raw_points[0])\n",
    "inner_orient_img2 = img2.ComputeInnerOrientation(list_of_raw_points[1])\n",
    "inner_orient_img3 = img3.ComputeInnerOrientation(list_of_raw_points[2])"
   ]
  },
  {
   "cell_type": "markdown",
   "metadata": {
    "pycharm": {
     "name": "#%% md\n"
    }
   },
   "source": [
    "Creating Image pair objects"
   ]
  },
  {
   "cell_type": "code",
   "execution_count": 11,
   "metadata": {
    "pycharm": {
     "is_executing": false,
     "name": "#%%\n"
    }
   },
   "outputs": [],
   "source": [
    "img_pair_1 = ImagePair(img1,img2)\n",
    "img_pair_2 = ImagePair(img2,img3)"
   ]
  },
  {
   "cell_type": "markdown",
   "metadata": {
    "pycharm": {
     "name": "#%% md\n"
    }
   },
   "source": [
    "Calculating relative orientation"
   ]
  },
  {
   "cell_type": "code",
   "execution_count": 12,
   "metadata": {
    "pycharm": {
     "is_executing": false,
     "name": "#%%\n"
    }
   },
   "outputs": [
    {
     "name": "stdout",
     "text": [
      "          0         1         2         3         4\n",
      "0  2.794105  2.202148  1.546451  0.097467  0.033793\n",
      "1  2.202148  2.099709  1.210228 -0.324227  0.034524\n",
      "2  1.546451  1.210228  0.857504  0.058484  0.020108\n",
      "3  0.097467 -0.324227  0.058484  0.753002 -0.078626\n",
      "4  0.033793  0.034524  0.020108 -0.078626  0.039715\n",
      "          0         1         2         3         4\n",
      "0  3.183960  2.487720  1.184019  0.355954  0.142040\n",
      "1  2.487720  4.941017  0.585605 -3.816441  0.099597\n",
      "2  1.184019  0.585605  0.485321  0.669170  0.051109\n",
      "3  0.355954 -3.816441  0.669170  6.650865 -0.007075\n",
      "4  0.142040  0.099597  0.051109 -0.007075  0.028327\n"
     ],
     "output_type": "stream"
    }
   ],
   "source": [
    "initial_p = np.array([0.0,0.0,0.0,0.0,0.0])\n",
    "relative_ori_1,sigma12 = img_pair_1.ComputeDependentRelativeOrientation(list_of_y_center_fixed_mm_points[0],\\\n",
    "                                                                list_of_y_center_fixed_mm_points[1],\\\n",
    "                                                                initial_p)\n",
    "relative_ori_2,sigma23 = img_pair_2.ComputeDependentRelativeOrientation(list_of_y_center_fixed_mm_points[1],\\\n",
    "                                                                list_of_y_center_fixed_mm_points[2],\\\n",
    "                                                                initial_p)"
   ]
  },
  {
   "cell_type": "markdown",
   "metadata": {
    "pycharm": {
     "name": "#%% md\n"
    }
   },
   "source": [
    "Calculating relative model coordinates of object"
   ]
  },
  {
   "cell_type": "code",
   "execution_count": 13,
   "metadata": {
    "pycharm": {
     "is_executing": false,
     "name": "#%%\n"
    }
   },
   "outputs": [
    {
     "name": "stdout",
     "text": [
      "          0         1         2\n",
      "0  0.541260 -0.000376  0.022643\n",
      "1  0.538151  0.025024  0.010559\n",
      "2  0.526154  0.018342  0.017307\n",
      "3  0.490442 -0.008144  0.041294\n",
      "4  0.521541 -0.010129  0.032858\n",
      "5  0.518057 -0.012864  0.035414\n",
      "6  0.489416 -0.007782  0.041389\n",
      "7  0.524465  0.014534  0.019122\n",
      "8  0.537520 -0.003349  0.025221\n"
     ],
     "output_type": "stream"
    }
   ],
   "source": [
    "object_points = []\n",
    "object_points.append(rd.ReadSampleFile(r'colorbase/boxespic2.json'))\n",
    "object_points.append(rd.ReadSampleFile(r'colorbase/boxespic3.json'))\n",
    "\n",
    "world_model_points = img_pair_1.ImagesToGround(object_points[0],\\\n",
    "                                               object_points[1])\n",
    "\n",
    "print(pd.DataFrame(world_model_points[0]))"
   ]
  },
  {
   "cell_type": "markdown",
   "metadata": {
    "pycharm": {
     "name": "#%% md\n"
    }
   },
   "source": [
    "Plotting the results"
   ]
  },
  {
   "cell_type": "code",
   "execution_count": 14,
   "metadata": {
    "pycharm": {
     "is_executing": false,
     "name": "#%%\n"
    }
   },
   "outputs": [
    {
     "data": {
      "text/plain": "<Figure size 432x288 with 1 Axes>",
      "image/png": "[encoded data removed]"
     },
     "metadata": {
      "needs_background": "light"
     },
     "output_type": "display_data"
    }
   ],
   "source": [
    "img_pair_2.drawImagePair(img_pair_2,world_model_points[0])"
   ]
  },
  {
   "cell_type": "code",
   "execution_count": 14,
   "metadata": {
    "pycharm": {
     "is_executing": false
    }
   },
   "outputs": [],
   "source": []
  }
 ],
 "metadata": {
  "kernelspec": {
   "display_name": "Python 3",
   "language": "python",
   "name": "python3"
  },
  "language_info": {
   "codemirror_mode": {
    "name": "ipython",
    "version": 3
   },
   "file_extension": ".py",
   "mimetype": "text/x-python",
   "name": "python",
   "nbconvert_exporter": "python",
   "pygments_lexer": "ipython3",
   "version": "3.7.4"
  },
  "pycharm": {
   "stem_cell": {
    "cell_type": "raw",
    "metadata": {
     "collapsed": false
    },
    "source": []
   }
  }
 },
 "nbformat": 4,
 "nbformat_minor": 1
}